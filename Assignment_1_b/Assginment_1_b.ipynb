{
 "cells": [
  {
   "cell_type": "markdown",
   "metadata": {},
   "source": [
    "This is an assignment on Pandas and Matplotlib. These are important tools that will be used in upcoming assignments."
   ]
  },
  {
   "cell_type": "markdown",
   "metadata": {},
   "source": [
    "# Import Libraries\n",
    "\n",
    "We shall start by importing the Python libraries you will need to run the code."
   ]
  },
  {
   "cell_type": "code",
   "execution_count": null,
   "metadata": {},
   "outputs": [],
   "source": [
    "import pandas as pd\n",
    "from matplotlib import pyplot as plt\n",
    "import matplotlib\n",
    "\n",
    "%matplotlib inline"
   ]
  },
  {
   "cell_type": "markdown",
   "metadata": {},
   "source": [
    "[Pandas](https://pandas.pydata.org/pandas-docs/stable/getting_started/10min.html) and [matplotlib](https://www.tutorialspoint.com/numpy/numpy_matplotlib.htm) go through these tutorials before you start doing the assignment."
   ]
  },
  {
   "cell_type": "markdown",
   "metadata": {},
   "source": [
    "## Load the Data\n",
    "### About the data\n",
    "\n",
    "The U.S. Census Bureau began asking internet use in American Community Survey (ACS) in 2013, as part of the 2008 Broadband Data Improvement Act, and has published 1-year estimate each year since 2013. The recent 2016 data shows that in many counties, over a quarter of household still do not have internet access."
   ]
  },
  {
   "cell_type": "code",
   "execution_count": null,
   "metadata": {},
   "outputs": [],
   "source": [
    "#Here we load the data\n",
    "df = pd.read_csv(\"kaggle_internet.csv\")\n",
    "print('shape of the data:'+str(df.shape))\n",
    "df.head()"
   ]
  },
  {
   "cell_type": "markdown",
   "metadata": {},
   "source": [
    "## Working with the data"
   ]
  },
  {
   "cell_type": "markdown",
   "metadata": {},
   "source": [
    "### 1.1 Check the correlation between the column using correlation matrix"
   ]
  },
  {
   "cell_type": "code",
   "execution_count": null,
   "metadata": {},
   "outputs": [],
   "source": [
    "#let's write the code for correlation matix\n",
    "corr = df.corr()\n",
    "corr.style.background_gradient(cmap='coolwarm')"
   ]
  },
  {
   "cell_type": "markdown",
   "metadata": {},
   "source": [
    "### Correlation\n",
    "Correlation is a statistical measure that indicates the extent to which two or more variables fluctuate together. A positive correlation indicates the extent to which those variables increase or decrease in parallel; a negative correlation indicates the extent to which one variable increases as the other decreases.\n",
    "Check out this [blog](https://www.datascience.com/learn-data-science/fundamentals/introduction-to-correlation-python-data-science) have a good mathematical explanation of correlation and here are the [types](http://benalexkeen.com/correlation-in-python/) of it.\n",
    "\n"
   ]
  },
  {
   "cell_type": "markdown",
   "metadata": {},
   "source": [
    "### Drop unncessary columns\n",
    "Here some columns have high similarity just like correlation between P_white and P_total is 0.9719 so can remove P_white, it won't affect the information extracted from the data.Generally, we do this if we have unncessary columns especially if the dimensions are very high, for example there are 1500 columns. We do this to decrease the computation cost."
   ]
  },
  {
   "cell_type": "code",
   "execution_count": null,
   "metadata": {},
   "outputs": [],
   "source": [
    "#Using the correlation scores make a list of columns to drop and drop the columns.\n",
    "drop_list=drop_list= [column for column in corr if corr[column]>0.95]\n",
    "df.drop('drop_list', axis=1, inplace=True)\n"
   ]
  },
  {
   "cell_type": "markdown",
   "metadata": {},
   "source": [
    "\n",
    "## 2.0 Plot the data\n",
    "\n",
    "After loading the data and removing unnecessary columns now we are going to visualize the data by scatter plot, line plot, histogram plot and few more using [matplotlib](https://www.tutorialspoint.com/numpy/numpy_matplotlib.htm) library.\n",
    "We will define functions for each plot to make our code re-usable."
   ]
  },
  {
   "cell_type": "markdown",
   "metadata": {},
   "source": [
    "But before plotting, you must set some parameters common to all the plots. This is done in order to make the visibility and readability of the plots better. This can be done by changing the default rc settings defined in the matplotlibrc configuration files. One example is given."
   ]
  },
  {
   "cell_type": "code",
   "execution_count": null,
   "metadata": {},
   "outputs": [],
   "source": [
    "#Set plot size to 14\" x 7\" (Solved Example)\n",
    "matplotlib.rc('figure', figsize = (14, 7))\n",
    "\n",
   "matplot.rcParams['font.size']=15\n",
   "plt.gca().spines['top'].set_visible(False)\n",
   "plt.gca().spines['right'].set_visible(False)\n"
   ]
  },
  {
   "cell_type": "markdown",
   "metadata": {},
   "source": [
    "## 2.1 Scatter Plot\n",
    "\n",
    "This is the most used plot for gaining insight into data while dealing with Machine Learning problems. For your convenience, the code for scatter plot is given as an example."
   ]
  },
  {
   "cell_type": "code",
   "execution_count": null,
   "metadata": {},
   "outputs": [],
   "source": [
    "def scatter_plot(x_data, y_data, x_label, y_label, title):\n",
    "    \n",
    "    plt.scatter(x_data, y_data, s = 15, color = '#539caf', alpha = 0.75)\n",
    "    plt.title(title)\n",
    "    plt.xlabel(x_label)\n",
    "    plt.ylabel(y_label)\n",
    "    \n",
    "    \n",
    "scatter_plot(x_data = df['lat']\n",
    "            , y_data = df['lon'] \n",
    "            , x_label = 'lat'\n",
    "            , y_label = 'lon'\n",
    "            , title = 'lon vs lat')"
   ]
  },
  {
   "cell_type": "markdown",
   "metadata": {},
   "source": [
    "## 2.2 Histogram"
   ]
  },
  {
   "cell_type": "markdown",
   "metadata": {},
   "source": [
    "Now here your task is to complete this histogram function"
   ]
  },
  {
   "cell_type": "code",
   "execution_count": null,
   "metadata": {},
   "outputs": [],
   "source": [
    "#Fill the function given below\n",
    "def histogram(data, x_label, y_label, title):\n",
    "plt.hist(data)\n",
    "plt.title(title)\n",
    "plt.xlabel(x_label)\n",
    "plt.ylabel(y_label)\n",
    "\n",
    "\n",

    "#Calling the function \"histogram\"\n",
    "histogram(data = df['percent_no_internet']\n",
    "           , x_label = '%_no_internet'\n",
    "           , y_label = 'Frequency'\n",
    "           , title = 'Distribution of percent of household without internet connection')"
   ]
  },
  {
   "cell_type": "markdown",
   "metadata": {},
   "source": [
    "## 2.3 Line plot"
   ]
  },
  {
   "cell_type": "markdown",
   "metadata": {},
   "source": [
    "Import the data for line plot."
   ]
  },
  {
   "cell_type": "code",
   "execution_count": null,
   "metadata": {},
   "outputs": [],
   "source": [
    "df2=pd.read_csv('day.csv')\n",
    "df2.head()"
   ]
  },
  {
   "cell_type": "markdown",
   "metadata": {},
   "source": [
    "Similarly complete the lineplot function"
   ]
  },
  {
   "cell_type": "code",
   "execution_count": null,
   "metadata": {},
   "outputs": [],
   "source": [
    "#Fill the function given below\n",
    "def lineplot(x_data, y_data, x_label, y_label, title):\n",
    "#Begin the code\n",
    "plt.title(title)\n",
    "plt.xlabel(x_label)\n",
    "plt.ylabel(y_label)\n",
    " plt.plot(x_data, y_data)\n",
    "\n",
    "\n",
    "#End the code    \n",
    "#Calling the function to create plot\n",
    "lineplot(x_data = df2['dteday']\n",
    "         , y_data = df2['cnt']\n",
    "         , x_label = 'Date'\n",
    "         , y_label = 'Total Checkouts'\n",
    "         , title = 'Total Checkouts for Each Day')"
   ]
  },
  {
   "cell_type": "markdown",
   "metadata": {},
   "source": [
    "## 2.4 Subplots"
   ]
  },
  {
   "cell_type": "markdown",
   "metadata": {},
   "source": [
    "The Matplotlib subplot() function can be called to plot two or more plots in one figure. Matplotlib supports all kind of subplots including 2x1 vertical, 2x1 horizontal or a 2x2 grid.\n",
    "Sometimes there is a need to plot subplot. Here, for example, we plot histogram and scatter plot together."
   ]
  },
  {
   "cell_type": "code",
   "execution_count": null,
   "metadata": {},
   "outputs": [],
   "source": [
    "plt.subplot(211)\n",
    "scatter_plot(x_data = df['lat']\n",
    "            , y_data = df['lon'] \n",
    "            , x_label = 'lat'\n",
    "            , y_label = 'lon'\n",
    "            , title = 'lon vs lat')\n",
    "plt.subplot(212)\n",
    "histogram(data = df['percent_no_internet']\n",
    "           , x_label = '%_no_internet'\n",
    "           , y_label = 'Frequency'\n",
    "           , title = 'Distribution of percent of household without internet connection')"
   ]
  },
  {
   "cell_type": "markdown",
   "metadata": {},
   "source": [
    "Here, your task is to write the code for subplot having two line plots."
   ]
  },
  {
   "cell_type": "code",
   "execution_count": null,
   "metadata": {},
   "outputs": [],
   "source": [
    "#Complete the function\n",
    "def line_2subplot(x1_data, x1_label, y1_data, y1_label,title1, x2_data, x2_label, y2_data, y2_label,title2):\n",
    "#Begin the code\n",
    "plt.subplot(211)\n",
    "lineplot(x1_data, y1_data, x1_label, y1_label, title1)\n",
    "plt.subplot(212)\n",
    "lineplot(x2_data, y2_data, x2_label, y2_label, title2)\n",
    "\n",
    "\n",
    "#End the code        \n",
    "#Calling the function to create subplot\n",
    "line_2subplot(x1_data = df2['dteday']\n",
    "              ,x1_label = 'Date',y1_data = df2['casual']\n",
    "              , y1_label = 'Casual Checkouts'\n",
    "              ,title1 = 'Total Casual Checkouts for Each Day'\n",
    "              ,x2_data = df2['dteday'] ,x2_label = 'Date',y2_data = df2['registered']\n",
    "              ,y2_label = 'Registered Checkouts'\n",
    "              ,title2 = 'Total Registered Checkouts for Each Day')\n",
    "\n",
    "    \n"
   ]
  },
  {
   "cell_type": "markdown",
   "metadata": {},
   "source": [
    "## 2.5 Comparing Two Line Plots\n",
    "\n",
    "This is useful for comparing two variables over a third variable. It must be noted that these variables may have different scales (they do in the example given below)."
   ]
  },
  {
   "cell_type": "code",
   "execution_count": null,
   "metadata": {},
   "outputs": [],
   "source": [
    "#Fill the function given below\n",
    "def lineplot2y(x_data, x_label, y1_data, y1_label, y2_data, y2_label, title):\n",
    "#Begin the code\n",
    " plt.subplot(211)\n",
    "lineplot(x_data,y1_data, x_label, y1_label, title)\n",
    " plt.subplot(212)\n",
    "lineplot(x_data, y2_data, x_label, y2_label, title)\n",
    "\n",
    "\n",
    "#End the code       \n",
    "#Calling the function to create plot\n",
    "lineplot2y(x_data = df2['dteday']\n",
    "           , x_label = 'Date'\n",
    "           , y1_data = df2['casual']\n",
    "           , y1_label = 'Casual Checkouts'\n",
    "           , y2_data = df2['registered']\n",
    "           , y2_label = 'Registered Checkouts'\n",
    "           , title = 'No. of Registered vs Casual Checkouts for Each Day')\n"
   ]
  },
  {
   "cell_type": "markdown",
   "metadata": {},
   "source": [
    "# It's Finished\n",
    "Congratulations! you have completed your first assignment.There are lots of plots you can explore, these plots will help you to visualize data in your upcoming assignment.You can also perform numpy operations on the given data.\n"
   ]
  },
  {
   "cell_type": "markdown",
   "metadata": {},
   "source": [
    "PS:You need to submit this Python notebook for this part of the assignment."
   ]
  }
 ],
 "metadata": {
  "kernelspec": {
   "display_name": "Python 3",
   "language": "python",
   "name": "python3"
  },
  "language_info": {
   "codemirror_mode": {
    "name": "ipython",
    "version": 3
   },
   "file_extension": ".py",
   "mimetype": "text/x-python",
   "name": "python",
   "nbconvert_exporter": "python",
   "pygments_lexer": "ipython3",
   "version": "3.5.2"
  }
 },
 "nbformat": 4,
 "nbformat_minor": 2
}
